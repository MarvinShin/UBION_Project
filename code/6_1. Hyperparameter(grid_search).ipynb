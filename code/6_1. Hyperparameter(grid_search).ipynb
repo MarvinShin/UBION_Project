{
  "nbformat": 4,
  "nbformat_minor": 0,
  "metadata": {
    "colab": {
      "name": "6-1.hyperparameter_grid_search_JH",
      "provenance": [],
      "collapsed_sections": []
    },
    "kernelspec": {
      "name": "python3",
      "display_name": "Python 3"
    },
    "language_info": {
      "name": "python"
    }
  },
  "cells": [
    {
      "cell_type": "code",
      "execution_count": null,
      "metadata": {
        "id": "aZ1IaJPSyyyP",
        "colab": {
          "base_uri": "https://localhost:8080/"
        },
        "outputId": "2c7259e7-67b0-4e3a-85ef-f02e3cb9ebb1"
      },
      "outputs": [
        {
          "output_type": "stream",
          "name": "stdout",
          "text": [
            "Mounted at /content/drive\n"
          ]
        }
      ],
      "source": [
        "from google.colab import drive\n",
        "drive.mount('/content/drive')"
      ]
    },
    {
      "cell_type": "code",
      "source": [
        "!sudo apt-get install -y fonts-nanum\n",
        "!sudo fc-cache -fv\n",
        "!rm ~/.cache/matplotlib -rf\n",
        "\n",
        "# #이후 런타임 다시 시작"
      ],
      "metadata": {
        "id": "_cusSCuQy7R0",
        "colab": {
          "base_uri": "https://localhost:8080/"
        },
        "outputId": "585efa3c-c832-4c27-e93a-f20fd3683da8"
      },
      "execution_count": null,
      "outputs": [
        {
          "output_type": "stream",
          "name": "stdout",
          "text": [
            "Reading package lists... Done\n",
            "Building dependency tree       \n",
            "Reading state information... Done\n",
            "The following NEW packages will be installed:\n",
            "  fonts-nanum\n",
            "0 upgraded, 1 newly installed, 0 to remove and 37 not upgraded.\n",
            "Need to get 9,604 kB of archives.\n",
            "After this operation, 29.5 MB of additional disk space will be used.\n",
            "Get:1 http://archive.ubuntu.com/ubuntu bionic/universe amd64 fonts-nanum all 20170925-1 [9,604 kB]\n",
            "Fetched 9,604 kB in 1s (9,948 kB/s)\n",
            "debconf: unable to initialize frontend: Dialog\n",
            "debconf: (No usable dialog-like program is installed, so the dialog based frontend cannot be used. at /usr/share/perl5/Debconf/FrontEnd/Dialog.pm line 76, <> line 1.)\n",
            "debconf: falling back to frontend: Readline\n",
            "debconf: unable to initialize frontend: Readline\n",
            "debconf: (This frontend requires a controlling tty.)\n",
            "debconf: falling back to frontend: Teletype\n",
            "dpkg-preconfigure: unable to re-open stdin: \n",
            "Selecting previously unselected package fonts-nanum.\n",
            "(Reading database ... 155222 files and directories currently installed.)\n",
            "Preparing to unpack .../fonts-nanum_20170925-1_all.deb ...\n",
            "Unpacking fonts-nanum (20170925-1) ...\n",
            "Setting up fonts-nanum (20170925-1) ...\n",
            "Processing triggers for fontconfig (2.12.6-0ubuntu2) ...\n",
            "/usr/share/fonts: caching, new cache contents: 0 fonts, 1 dirs\n",
            "/usr/share/fonts/truetype: caching, new cache contents: 0 fonts, 3 dirs\n",
            "/usr/share/fonts/truetype/humor-sans: caching, new cache contents: 1 fonts, 0 dirs\n",
            "/usr/share/fonts/truetype/liberation: caching, new cache contents: 16 fonts, 0 dirs\n",
            "/usr/share/fonts/truetype/nanum: caching, new cache contents: 10 fonts, 0 dirs\n",
            "/usr/local/share/fonts: caching, new cache contents: 0 fonts, 0 dirs\n",
            "/root/.local/share/fonts: skipping, no such directory\n",
            "/root/.fonts: skipping, no such directory\n",
            "/var/cache/fontconfig: cleaning cache directory\n",
            "/root/.cache/fontconfig: not cleaning non-existent cache directory\n",
            "/root/.fontconfig: not cleaning non-existent cache directory\n",
            "fc-cache: succeeded\n"
          ]
        }
      ]
    },
    {
      "cell_type": "code",
      "source": [
        "import warnings   \n",
        "warnings.simplefilter(action='ignore', category=FutureWarning)\n",
        "\n",
        "import matplotlib.pyplot as plt\n",
        "import seaborn as sns\n",
        "\n",
        "plt.rc('font', family='NanumBarunGothic') \n",
        "plt.rcParams[\"font.size\"] = 12\n",
        "plt.rcParams['xtick.labelsize'] = 12.\n",
        "plt.rcParams['ytick.labelsize'] = 12.\n",
        "plt.rcParams['axes.unicode_minus'] = False"
      ],
      "metadata": {
        "id": "oeSk7fkxzDAc"
      },
      "execution_count": null,
      "outputs": []
    },
    {
      "cell_type": "code",
      "source": [
        "import numpy as np\n",
        "import pandas as pd\n",
        "import re\n",
        "\n",
        "\n",
        "from sklearn.linear_model import LogisticRegression\n",
        "from sklearn.linear_model import SGDClassifier\n",
        "from sklearn.neighbors import KNeighborsClassifier\n",
        "from sklearn.tree import DecisionTreeClassifier\n",
        "from sklearn.svm import SVC\n",
        "from sklearn.ensemble import RandomForestClassifier\n",
        "\n",
        "from sklearn.metrics import classification_report, confusion_matrix\n",
        "from sklearn.metrics import  accuracy_score, precision_score, recall_score, f1_score, roc_auc_score\n",
        "\n",
        "from sklearn.model_selection import StratifiedKFold\n",
        "from sklearn.model_selection import GridSearchCV"
      ],
      "metadata": {
        "id": "J3MLCnnPzLKn"
      },
      "execution_count": null,
      "outputs": []
    },
    {
      "cell_type": "code",
      "source": [
        "cd /content/drive/MyDrive/UBION_final_project/data"
      ],
      "metadata": {
        "colab": {
          "base_uri": "https://localhost:8080/"
        },
        "id": "dnDgPvopzNU6",
        "outputId": "4e87e63a-7ed9-4f3c-943a-b81ab96f3fd7"
      },
      "execution_count": null,
      "outputs": [
        {
          "output_type": "stream",
          "name": "stdout",
          "text": [
            "/content/drive/.shortcut-targets-by-id/1cbruNkx_Sh7hGut3yOs6kDVmEN0tQAuf/UBION_final_project/data\n"
          ]
        }
      ]
    },
    {
      "cell_type": "markdown",
      "source": [
        "# show_result, store_result"
      ],
      "metadata": {
        "id": "Y68pehuf3rRY"
      }
    },
    {
      "cell_type": "code",
      "source": [
        "def show_result(y_test, prediction, prob, best):\n",
        "  global condition\n",
        "  CM = confusion_matrix(y_test, prediction) #Confusion_matrix\n",
        "  A = round( accuracy_score(y_test,prediction),3)  # 정확도\n",
        "  P = round( precision_score(y_test, prediction),3)  #정밀도\n",
        "  R = round( recall_score(y_test, prediction), 3) #재현율\n",
        "  F = round( f1_score(y_test, prediction), 3) #f1-score\n",
        "  S = round( roc_auc_score(y_test, prob, multi_class='ovr'), 3) #ROC_AUC Score\n",
        "\n",
        "  condition.append(CM)\n",
        "  condition.append(A)\n",
        "  condition.append(P)\n",
        "  condition.append(R)\n",
        "  condition.append(F)\n",
        "  condition.append(S)\n",
        "  condition.append(best)"
      ],
      "metadata": {
        "id": "C8TkkwYZ1MwQ"
      },
      "execution_count": null,
      "outputs": []
    },
    {
      "cell_type": "code",
      "source": [
        "# grid_result_auc = pd.DataFrame(columns = ['데이터프레임', 'train_test_split(Y/R)', 't-test(Y/N)', '변수선택법', 'VIF(Y/N)','sampling 방식', '적용모델','선택된 변수','혼동행렬', 'Accuracy', 'Precision', 'Recall', 'F1-score','ROC_AUC', 'hyperparameter 변경', 'cut-off'])\n",
        "# grid_result_auc.to_csv('grid_result_auc.csv', index=False)"
      ],
      "metadata": {
        "id": "QNvnOrsVCl1G"
      },
      "execution_count": null,
      "outputs": []
    },
    {
      "cell_type": "code",
      "source": [
        "def store_result(condition):\n",
        "    grid_result_auc = pd.read_csv('grid_result_auc.csv')\n",
        "\n",
        "    condition= pd.DataFrame({len(grid_result_auc): condition}).transpose()\n",
        "    condition.columns = ['데이터프레임', 'train_test_split(Y/R)', 't-test(Y/N)', '변수선택법', 'VIF(Y/N)','sampling 방식', '적용모델','선택된 변수','혼동행렬', 'Accuracy', 'Precision', 'Recall', 'F1-score', 'ROC_AUC','hyperparameter 변경', 'cut-off',]\n",
        "    \n",
        "\n",
        "    grid_result_auc = pd.concat([grid_result_auc, condition], axis=0, ignore_index=True)\n",
        "\n",
        "    grid_result_auc.to_csv('grid_result_auc.csv', index=False)"
      ],
      "metadata": {
        "id": "9QhfhKFMLToD"
      },
      "execution_count": null,
      "outputs": []
    },
    {
      "cell_type": "markdown",
      "source": [
        "# Excute_model"
      ],
      "metadata": {
        "id": "2dO15q--3u-N"
      }
    },
    {
      "cell_type": "code",
      "source": [
        "def change_cutoff(result_df):\n",
        "    value_00 = result_df[(result_df['Actual']==0) & (result_df['prediction']== 0)]['부도_prob'].max()\n",
        "    value_01 = result_df[(result_df['Actual']==0) & (result_df['prediction']== 1)]['부도_prob'].min()\n",
        "    value_10 = result_df[(result_df['Actual']==1) & (result_df['prediction']== 0)]['부도_prob'].max()\n",
        "    value_11 = result_df[(result_df['Actual']==1) & (result_df['prediction']== 1)]['부도_prob'].min()\n",
        "\n",
        "    if value_10 < value_00:\n",
        "        cutoff = value_11\n",
        "        result_df.loc[(result_df['Actual']==0) & (result_df['prediction']== 1) & (result_df['부도_prob']<cutoff) , 'prediction'] = 0\n",
        "    \n",
        "    if value_11 > value_01:\n",
        "        cutoff= value_00\n",
        "        result_df.loc[(result_df['Actual']==1) & (result_df['prediction']== 0) & (result_df['부도_prob']>cutoff) , 'prediction'] = 1\n",
        "\n",
        "    return result_df"
      ],
      "metadata": {
        "id": "WmHF7Usl6Jkd"
      },
      "execution_count": null,
      "outputs": []
    },
    {
      "cell_type": "code",
      "source": [
        "def Excute_lg_grid (X_train, y_train, X_test, y_test):\n",
        "    # 하이퍼 파라미터 설정 \n",
        "    parameters = {'C':[0.001, 0.01, 0.1, 1, 10, 100]}\n",
        "    # 모델 설정\n",
        "    estimator = LogisticRegression(random_state=0, max_iter=10000)\n",
        "\n",
        "    #모델 구동\n",
        "    grid_lr = GridSearchCV(estimator, param_grid=parameters, cv = 5, scoring = 'roc_auc', refit=True)\n",
        "    grid_lr.fit(X_train, y_train)\n",
        "\n",
        "    # 최적의 파라미터 조합 도출\n",
        "    best = grid_lr.best_params_\n",
        "\n",
        "    # 확률 및 예측값 도출\n",
        "    prediction = grid_lr.predict(X_test)\n",
        "    prediction_prob = grid_lr.predict_proba(X_test) \n",
        "\n",
        "    y_test = pd.Series(y_test.values)\n",
        "    y_test = y_test.to_frame()\n",
        "\n",
        "    result_df = pd.DataFrame(prediction_prob, columns=['정상_prob','부도_prob'])\n",
        "    result_df['prediction'] = prediction\n",
        "    result_df['Actual'] = y_test\n",
        "\n",
        "    show_result(result_df['Actual'], result_df['prediction'], result_df['부도_prob'], best)"
      ],
      "metadata": {
        "id": "p1eEdVNZBQUn"
      },
      "execution_count": null,
      "outputs": []
    },
    {
      "cell_type": "code",
      "source": [
        "# def Excute_sgd_change(X_train, y_train, X_test, y_test):\n",
        "#     sgd = SGDClassifier(random_state=0)\n",
        "#     sgd.fit(X_train, y_train)\n",
        "#     prediction = sgd.predict(X_test)\n",
        "#     prediction_prob =sgd.predict_proba(X_test)\n",
        "\n",
        "#     y_test = pd.Series(y_test.values)\n",
        "#     y_test = y_test.to_frame()\n",
        "\n",
        "#     result_df = pd.DataFrame(prediction_prob, columns=['정상_prob','부도_prob'])\n",
        "#     result_df['prediction'] = prediction\n",
        "#     result_df['Actual'] = y_test\n",
        "\n",
        "\n",
        "#     show_result(result_df['Actual'], result_df['prediction'])"
      ],
      "metadata": {
        "id": "zA-DIrht4Jod"
      },
      "execution_count": null,
      "outputs": []
    },
    {
      "cell_type": "code",
      "source": [
        "def Excute_svm_grid(X_train, y_train, X_test, y_test):\n",
        "    parameters = { 'C':[0.1,10,100,1000],'kernel':['rbf','poly','sigmoid','linear'],'degree':[1,2,3,4,5,6],'gamma': [1, 0.1, 0.01, 0.001, 0.0001]}\n",
        "    estimator = SVC(random_state=0, probability = True)\n",
        "\n",
        "    grid_svm = GridSearchCV(estimator, param_grid=parameters, cv = 5, scoring = 'roc_auc', refit=True)\n",
        "    grid_svm.fit(X_train, y_train)\n",
        "\n",
        "    best = grid_svm.best_params_\n",
        "\n",
        "    prediction = grid_svm.predict(X_test)\n",
        "    prediction_prob =grid_svm.predict_proba(X_test)\n",
        "\n",
        "    y_test = pd.Series(y_test.values)\n",
        "    y_test = y_test.to_frame()\n",
        "\n",
        "    result_df = pd.DataFrame(prediction_prob, columns=['정상_prob','부도_prob'])\n",
        "    result_df['prediction'] = prediction\n",
        "    result_df['Actual'] = y_test\n",
        "\n",
        "    show_result(result_df['Actual'], result_df['prediction'], result_df['부도_prob'], best)"
      ],
      "metadata": {
        "id": "A7MWqRit4KjB"
      },
      "execution_count": null,
      "outputs": []
    },
    {
      "cell_type": "code",
      "source": [
        "def Excute_pr_grid(X_train, y_train, X_test, y_test):\n",
        "    dt2 = DecisionTreeClassifier(max_depth=2)\n",
        "    dt2.fit(X_train, y_train)\n",
        "    prediction = dt2.predict(X_test)\n",
        "    prediction_prob =dt2.predict_proba(X_test)\n",
        "\n",
        "    best = None\n",
        "\n",
        "    y_test = pd.Series(y_test.values)\n",
        "    y_test = y_test.to_frame()\n",
        "\n",
        "    result_df = pd.DataFrame(prediction_prob, columns=['정상_prob','부도_prob'])\n",
        "    result_df['prediction'] = prediction\n",
        "    result_df['Actual'] = y_test\n",
        "\n",
        "    show_result(result_df['Actual'], result_df['prediction'], result_df['부도_prob'], best)"
      ],
      "metadata": {
        "id": "f1pcf28S4Nds"
      },
      "execution_count": null,
      "outputs": []
    },
    {
      "cell_type": "code",
      "source": [
        "def Excute_dt_grid(X_train, y_train, X_test, y_test): \n",
        "    parameters={\"min_samples_leaf\":[1, 2, 3, 4, 5, 6, 7, 8, 9], \"max_depth\":[2, 3, 4, 5, 6, None], \"min_samples_split\":[2, 3, 4, 5, 6, 7, 8, 9, 10] }\n",
        "    estimator = DecisionTreeClassifier(random_state=0)\n",
        "\n",
        "    grid_dt = GridSearchCV(estimator, param_grid=parameters, cv = 5, scoring = 'roc_auc', refit=True)\n",
        "    grid_dt.fit(X_train, y_train)\n",
        "\n",
        "    best = grid_dt.best_params_\n",
        "\n",
        "    prediction = grid_dt.predict(X_test)\n",
        "    prediction_prob =grid_dt.predict_proba(X_test)\n",
        "\n",
        "    y_test = pd.Series(y_test.values)\n",
        "    y_test = y_test.to_frame()\n",
        "\n",
        "    result_df = pd.DataFrame(prediction_prob, columns=['정상_prob','부도_prob'])\n",
        "    result_df['prediction'] = prediction\n",
        "    result_df['Actual'] = y_test\n",
        "\n",
        "    show_result(result_df['Actual'], result_df['prediction'], result_df['부도_prob'], best)"
      ],
      "metadata": {
        "id": "ZgBTbJiM4Moy"
      },
      "execution_count": null,
      "outputs": []
    },
    {
      "cell_type": "code",
      "source": [
        "def Excute_knn_grid(X_train, y_train, X_test, y_test):\n",
        "    parameters = {'n_neighbors' : list(range(1,20)), 'weights' : [\"uniform\", \"distance\"], 'metric' : ['euclidean', 'manhattan', 'minkowski']}\n",
        "    estimator = KNeighborsClassifier()\n",
        "\n",
        "    grid_knn = GridSearchCV(estimator, param_grid=parameters, cv = 5, scoring = 'roc_auc', refit=True)\n",
        "    grid_knn.fit(X_train, y_train)\n",
        "\n",
        "    best = grid_knn.best_params_\n",
        "\n",
        "    prediction = grid_knn.predict(X_test)\n",
        "    prediction_prob =grid_knn.predict_proba(X_test)\n",
        "    \n",
        "\n",
        "    y_test = pd.Series(y_test.values)\n",
        "    y_test = y_test.to_frame()\n",
        "\n",
        "    result_df = pd.DataFrame(prediction_prob, columns=['정상_prob','부도_prob'])\n",
        "    result_df['prediction'] = prediction\n",
        "    result_df['Actual'] = y_test\n",
        "\n",
        "    show_result(result_df['Actual'], result_df['prediction'], result_df['부도_prob'], best)"
      ],
      "metadata": {
        "id": "DmXbuMaa4L0F"
      },
      "execution_count": null,
      "outputs": []
    },
    {
      "cell_type": "code",
      "source": [
        "def Excute_rf_grid(X_train, y_train, X_test, y_test):\n",
        "    parameters={\"min_samples_leaf\":[1, 2, 3, 4, 5, 6, 7, 8, 9], \"max_depth\":[2, 3, 4, 5, 6, 8, 10, 12, None], \"min_samples_split\":[2, 3, 4, 5, 6, 7, 8, 9, 10]}\n",
        "    estimator= RandomForestClassifier(random_state=0)\n",
        "\n",
        "    grid_rfc = GridSearchCV(estimator, param_grid=parameters, cv = 5, scoring = 'roc_auc', refit=True)\n",
        "    grid_rfc.fit(X_train, y_train)\n",
        "\n",
        "    best = grid_rfc.best_params_\n",
        "\n",
        "    prediction = grid_rfc.predict(X_test)\n",
        "    prediction_prob =grid_rfc.predict_proba(X_test)\n",
        "\n",
        "    y_test = pd.Series(y_test.values)\n",
        "    y_test = y_test.to_frame()\n",
        "\n",
        "    result_df = pd.DataFrame(prediction_prob, columns=['정상_prob','부도_prob'])\n",
        "    result_df['prediction'] = prediction\n",
        "    result_df['Actual'] = y_test\n",
        "\n",
        "    show_result(result_df['Actual'], result_df['prediction'], result_df['부도_prob'], best)"
      ],
      "metadata": {
        "id": "iHTjQJvT4PEW"
      },
      "execution_count": null,
      "outputs": []
    },
    {
      "cell_type": "markdown",
      "source": [
        "# sampling"
      ],
      "metadata": {
        "id": "YOhl0-w54Pz4"
      }
    },
    {
      "cell_type": "code",
      "source": [
        "def RUSE(X_train, y_train):\n",
        "  from imblearn.under_sampling import RandomUnderSampler\n",
        "  rus = RandomUnderSampler()\n",
        "  \n",
        "  X_undersampled, y_undersampled = rus.fit_resample(X_train, y_train)\n",
        "  \n",
        "  return X_undersampled, y_undersampled"
      ],
      "metadata": {
        "id": "NVuJddau1phF"
      },
      "execution_count": null,
      "outputs": []
    },
    {
      "cell_type": "code",
      "source": [
        "def ROSE(X_train, y_train):\n",
        "  from imblearn.over_sampling import RandomOverSampler\n",
        "  ros = RandomOverSampler()\n",
        "\n",
        "  X_oversampled, y_oversampled = ros.fit_resample(X_train, y_train)\n",
        "  \n",
        "  return X_oversampled, y_oversampled"
      ],
      "metadata": {
        "id": "TQD36bk84s65"
      },
      "execution_count": null,
      "outputs": []
    },
    {
      "cell_type": "code",
      "source": [
        "def SMOTE(X_train, y_train):\n",
        "  from imblearn.over_sampling import SMOTE\n",
        "  smote = SMOTE()\n",
        "  X_smoted, y_smoted = smote.fit_resample(X_train,y_train)\n",
        "  \n",
        "  return X_smoted, y_smoted"
      ],
      "metadata": {
        "id": "FV4vTutZ4UTC"
      },
      "execution_count": null,
      "outputs": []
    },
    {
      "cell_type": "markdown",
      "source": [
        "# train/test/split"
      ],
      "metadata": {
        "id": "yiJ8PXYs7Kuz"
      }
    },
    {
      "cell_type": "code",
      "source": [
        "def split_by_Y(df):\n",
        "    after_2018  = df.loc[df['회계년도'] >= 2018]['차기부도여부'].value_counts()[1]\n",
        "    before_2018 = df.loc[df['회계년도'] <  2018]['차기부도여부'].value_counts()[1]\n",
        "    SIZE = after_2018/len(df)\n",
        "\n",
        "    test = df[df['회계년도'] >= 2018]\n",
        "    train = df[df['회계년도'] < 2018]\n",
        "    \n",
        "    test.drop(columns = ['회계년도'], inplace=True)\n",
        "    train.drop(columns= ['회계년도'], inplace=True)\n",
        "\n",
        "    X_train = train.drop(['차기부도여부'], axis= 1)\n",
        "    y_train = train['차기부도여부']\n",
        "\n",
        "    X_test = test.drop(['차기부도여부'], axis=1)\n",
        "    y_test = test['차기부도여부']\n",
        "\n",
        "    return X_train, y_train, X_test, y_test"
      ],
      "metadata": {
        "id": "ixCdDM1e7IUH"
      },
      "execution_count": null,
      "outputs": []
    },
    {
      "cell_type": "code",
      "source": [
        "def split_by_R(df):\n",
        "    from sklearn.model_selection import train_test_split\n",
        "    \n",
        "    data = df.drop(['차기부도여부'], axis= 1)\n",
        "    target = df['차기부도여부']\n",
        "\n",
        "    # train_test_split\n",
        "    X_train, X_test, y_train, y_test = train_test_split(data, target, test_size=0.178, shuffle=True, stratify=target, random_state=34)\n",
        "    X_test.drop(columns = ['회계년도'], inplace=True)\n",
        "    X_train.drop(columns= ['회계년도'], inplace=True)\n",
        "\n",
        "    return X_train, y_train, X_test, y_test"
      ],
      "metadata": {
        "id": "fHDsNqfV7u4_"
      },
      "execution_count": null,
      "outputs": []
    },
    {
      "cell_type": "markdown",
      "source": [
        "# main"
      ],
      "metadata": {
        "id": "Mv3xeqWA-RCO"
      }
    },
    {
      "cell_type": "code",
      "source": [
        "def RUN_ALL(filename, seleted_variables, train_test_split_method , sampling_method, model_name):\n",
        "    df = pd.read_csv(filename+'.csv')\n",
        "    global condition\n",
        "\n",
        "    df = df[seleted_variables]\n",
        "\n",
        "    if train_test_split_method == 'Y' :\n",
        "        X_train, y_train, X_test, y_test = split_by_Y(df)\n",
        "        print(X_train.head(2))\n",
        "    elif train_test_split_method == 'R' :\n",
        "        X_train, y_train, X_test, y_test = split_by_R(df)\n",
        "\n",
        "    if sampling_method == 'RUSE' :\n",
        "        sampled_X_train, sampled_y_train = RUSE( X_train, y_train )\n",
        "    elif sampling_method =='ROSE' :\n",
        "        sampled_X_train, sampled_y_train = ROSE( X_train, y_train )\n",
        "    elif sampling_method =='SMOTE' :\n",
        "        sampled_X_train, sampled_y_train = SMOTE( X_train, y_train)\n",
        "    elif sampling_method =='None':\n",
        "        sampled_X_train, sampled_y_train = X_train, y_train\n",
        "\n",
        "\n",
        "    if model_name =='lg':\n",
        "        Excute_lg_grid(sampled_X_train, sampled_y_train, X_test, y_test)\n",
        "    # elif model_name =='sgd':\n",
        "    #     Excute_sgd_grid(sampled_X_train, sampled_y_train, X_test, y_test)\n",
        "    elif model_name =='knn':\n",
        "        Excute_knn_grid(sampled_X_train, sampled_y_train, X_test, y_test)\n",
        "    elif model_name =='svm':\n",
        "        Excute_svm_grid(sampled_X_train, sampled_y_train, X_test, y_test)\n",
        "    elif model_name =='dt':\n",
        "        Excute_dt_grid(sampled_X_train, sampled_y_train, X_test, y_test)\n",
        "    elif model_name =='pr':\n",
        "        Excute_pr_grid(sampled_X_train, sampled_y_train, X_test, y_test)\n",
        "    elif model_name =='rf':\n",
        "        Excute_rf_grid(sampled_X_train, sampled_y_train, X_test, y_test)"
      ],
      "metadata": {
        "id": "c1WpZyfk6pvO"
      },
      "execution_count": null,
      "outputs": []
    },
    {
      "cell_type": "code",
      "source": [
        "target = pd.read_csv('tarrget_92_16.csv')\n",
        "target= target[target['적용모델']!='sgd']"
      ],
      "metadata": {
        "id": "RiXBhuGBnC4N"
      },
      "execution_count": null,
      "outputs": []
    },
    {
      "cell_type": "code",
      "source": [
        "for idx, col in target.iterrows():\n",
        "    condition = col[:8].to_list()\n",
        "\n",
        "    seleted_variables = condition[7]\n",
        "    seleted_variables = re.sub(\"\\[|\\]|\\'|\\'|\", \"\",seleted_variables)\n",
        "    seleted_variables = list(seleted_variables.split(', '))\n",
        "    seleted_variables.append('차기부도여부')\n",
        "    seleted_variables.append('회계년도')\n",
        "\n",
        "    print(\"***\", condition[:7])\n",
        "    RUN_ALL(condition[0], seleted_variables, condition[1] , condition[5], condition[6])\n",
        "    condition.append('N')\n",
        "    store_result(condition)"
      ],
      "metadata": {
        "colab": {
          "base_uri": "https://localhost:8080/"
        },
        "id": "-0tnmx3anGtA",
        "outputId": "47e64255-3e0f-4028-f00e-a3150a7664da"
      },
      "execution_count": null,
      "outputs": [
        {
          "output_type": "stream",
          "name": "stdout",
          "text": [
            "*** ['small_business_df', 'R', 't_Y', 'forward', 'v_N', 'RUSE', 'lg']\n",
            "*** ['small_business_df', 'R', 't_Y', 'stepwise', 'v_N', 'RUSE', 'lg']\n",
            "*** ['small_business_df', 'R', 't_Y', 'stepwise', 'v_N', 'SMOTE', 'lg']\n",
            "*** ['small_business_df', 'R', 't_Y', 'forward', 'v_N', 'ROSE', 'lg']\n",
            "*** ['small_business_df', 'R', 't_Y', 'forward', 'v_N', 'SMOTE', 'lg']\n",
            "*** ['small_business_df', 'R', 't_Y', 'stepwise', 'v_N', 'ROSE', 'lg']\n",
            "*** ['small_business_df', 'R', 't_Y', 'Lasso', 'v_N', 'SMOTE', 'lg']\n",
            "*** ['small_business_df', 'R', 't_Y', 'None', 'v_N', 'SMOTE', 'lg']\n",
            "*** ['small_business_df', 'R', 't_Y', 'Lasso', 'v_N', 'RUSE', 'lg']\n",
            "*** ['diff_df', 'R', 't_Y', 'None', 'v_N', 'RUSE', 'rf']\n",
            "*** ['small_business_df', 'R', 't_Y', 'Lasso', 'v_Y', 'RUSE', 'rf']\n",
            "*** ['basic_final_df', 'R', 't_Y', 'None', 'v_Y', 'RUSE', 'rf']\n",
            "*** ['small_business_df', 'R', 't_Y', 'None', 'v_Y', 'RUSE', 'rf']\n",
            "*** ['diff_df', 'R', 't_Y', 'Lasso', 'v_Y', 'RUSE', 'rf']\n",
            "*** ['small_business_df', 'R', 't_Y', 'None', 'v_N', 'ROSE', 'lg']\n",
            "*** ['basic_final_df', 'R', 't_Y', 'stepwise', 'v_N', 'RUSE', 'rf']\n"
          ]
        }
      ]
    },
    {
      "cell_type": "code",
      "source": [
        ""
      ],
      "metadata": {
        "id": "kZQbQURNreoD"
      },
      "execution_count": null,
      "outputs": []
    }
  ]
}